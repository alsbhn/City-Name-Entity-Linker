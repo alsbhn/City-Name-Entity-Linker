{
 "cells": [
  {
   "cell_type": "code",
   "execution_count": 1,
   "metadata": {},
   "outputs": [],
   "source": [
    "import pandas as pd"
   ]
  },
  {
   "cell_type": "code",
   "execution_count": 3,
   "metadata": {},
   "outputs": [],
   "source": [
    "df_1 = pd.read_csv('train_data/data_manual_from_googlenews.csv')\n",
    "df_2 = pd.read_csv('train_data/data_sample.csv')\n",
    "df_3 = pd.read_csv('train_data/googlenews_top_monthly_2019_45cities_text_8.csv')"
   ]
  },
  {
   "cell_type": "code",
   "execution_count": 26,
   "metadata": {},
   "outputs": [],
   "source": [
    "df_1 = df_1.loc[:,['url','city','title','text']]\n",
    "df_1 ['dataset'] = 'manual_google'"
   ]
  },
  {
   "cell_type": "code",
   "execution_count": 27,
   "metadata": {},
   "outputs": [
    {
     "name": "stderr",
     "output_type": "stream",
     "text": [
      "C:\\ProgramData\\Anaconda3\\lib\\site-packages\\pandas\\core\\indexing.py:1418: FutureWarning: \n",
      "Passing list-likes to .loc or [] with any missing label will raise\n",
      "KeyError in the future, you can use .reindex() as an alternative.\n",
      "\n",
      "See the documentation here:\n",
      "https://pandas.pydata.org/pandas-docs/stable/user_guide/indexing.html#deprecate-loc-reindex-listlike\n",
      "  return self._getitem_tuple(key)\n"
     ]
    }
   ],
   "source": [
    "df_2 = df_2.loc[:,['url','title','text','top_city']].rename(columns = {'top_city':'city'},errors=\"raise\")\n",
    "df_2 ['dataset'] = 'sample'"
   ]
  },
  {
   "cell_type": "code",
   "execution_count": 28,
   "metadata": {},
   "outputs": [],
   "source": [
    "df_3 = df_3.loc[:,['url', 'title','text','city']]\n",
    "df_3 ['dataset'] = 'auto_google'"
   ]
  },
  {
   "cell_type": "code",
   "execution_count": 32,
   "metadata": {},
   "outputs": [
    {
     "name": "stderr",
     "output_type": "stream",
     "text": [
      "C:\\ProgramData\\Anaconda3\\lib\\site-packages\\ipykernel_launcher.py:1: FutureWarning: Sorting because non-concatenation axis is not aligned. A future version\n",
      "of pandas will change to not sort by default.\n",
      "\n",
      "To accept the future behavior, pass 'sort=False'.\n",
      "\n",
      "To retain the current behavior and silence the warning, pass 'sort=True'.\n",
      "\n",
      "  \"\"\"Entry point for launching an IPython kernel.\n"
     ]
    }
   ],
   "source": [
    "df = pd.concat([df_1,df_2,df_3])"
   ]
  },
  {
   "cell_type": "code",
   "execution_count": 36,
   "metadata": {},
   "outputs": [],
   "source": [
    "df = df.reset_index(drop=True)"
   ]
  },
  {
   "cell_type": "code",
   "execution_count": 37,
   "metadata": {},
   "outputs": [
    {
     "data": {
      "text/html": [
       "<div>\n",
       "<style scoped>\n",
       "    .dataframe tbody tr th:only-of-type {\n",
       "        vertical-align: middle;\n",
       "    }\n",
       "\n",
       "    .dataframe tbody tr th {\n",
       "        vertical-align: top;\n",
       "    }\n",
       "\n",
       "    .dataframe thead th {\n",
       "        text-align: right;\n",
       "    }\n",
       "</style>\n",
       "<table border=\"1\" class=\"dataframe\">\n",
       "  <thead>\n",
       "    <tr style=\"text-align: right;\">\n",
       "      <th></th>\n",
       "      <th>city</th>\n",
       "      <th>dataset</th>\n",
       "      <th>text</th>\n",
       "      <th>title</th>\n",
       "      <th>url</th>\n",
       "    </tr>\n",
       "  </thead>\n",
       "  <tbody>\n",
       "    <tr>\n",
       "      <td>0</td>\n",
       "      <td>New York</td>\n",
       "      <td>manual_google</td>\n",
       "      <td>New York City’s progress fighting the coronavi...</td>\n",
       "      <td>NYC is now the worst place to do business, ret...</td>\n",
       "      <td>https://nypost.com/2020/07/21/nyc-is-now-the-w...</td>\n",
       "    </tr>\n",
       "    <tr>\n",
       "      <td>1</td>\n",
       "      <td>New York</td>\n",
       "      <td>manual_google</td>\n",
       "      <td>article\\n\\nWho says you can't have fun while s...</td>\n",
       "      <td>Floating cinema equipped with social distancin...</td>\n",
       "      <td>https://www.fox5ny.com/news/floating-cinema-eq...</td>\n",
       "    </tr>\n",
       "    <tr>\n",
       "      <td>2</td>\n",
       "      <td>New York</td>\n",
       "      <td>manual_google</td>\n",
       "      <td>New York’s Legislature is meeting virtually, f...</td>\n",
       "      <td>Opinion | New Yorkers, Voting Could Get Much E...</td>\n",
       "      <td>https://www.nytimes.com/2020/07/21/opinion/new...</td>\n",
       "    </tr>\n",
       "    <tr>\n",
       "      <td>3</td>\n",
       "      <td>New York</td>\n",
       "      <td>manual_google</td>\n",
       "      <td>ALBANY — Democratic state lawmakers are consid...</td>\n",
       "      <td>NY bill would rollback COVID-19 liability prot...</td>\n",
       "      <td>https://nypost.com/2020/07/21/ny-bill-would-ro...</td>\n",
       "    </tr>\n",
       "    <tr>\n",
       "      <td>4</td>\n",
       "      <td>New York</td>\n",
       "      <td>manual_google</td>\n",
       "      <td>NEW YORK (AP) — New York City will spend up to...</td>\n",
       "      <td>New York City will cover illegal immigrants as...</td>\n",
       "      <td>https://www.marketwatch.com/story/new-york-cit...</td>\n",
       "    </tr>\n",
       "    <tr>\n",
       "      <td>...</td>\n",
       "      <td>...</td>\n",
       "      <td>...</td>\n",
       "      <td>...</td>\n",
       "      <td>...</td>\n",
       "      <td>...</td>\n",
       "    </tr>\n",
       "    <tr>\n",
       "      <td>8698</td>\n",
       "      <td>Louisville</td>\n",
       "      <td>auto_google</td>\n",
       "      <td>Louisville basketball puts on show for late-ni...</td>\n",
       "      <td>Louisville basketball beats Pittsburgh, unbeat...</td>\n",
       "      <td>https://www.courier-journal.com/story/sports/c...</td>\n",
       "    </tr>\n",
       "    <tr>\n",
       "      <td>8699</td>\n",
       "      <td>Louisville</td>\n",
       "      <td>auto_google</td>\n",
       "      <td>Menâs college basketball has had no dominant...</td>\n",
       "      <td>Louisville and Ohio State Start to Rise Above ...</td>\n",
       "      <td>https://www.nytimes.com/2019/12/09/sports/ncaa...</td>\n",
       "    </tr>\n",
       "    <tr>\n",
       "      <td>8700</td>\n",
       "      <td>Louisville</td>\n",
       "      <td>auto_google</td>\n",
       "      <td>Gonzaga remains atop The Associated Press men'...</td>\n",
       "      <td>Kentucky climbs in Top 25 poll after beating L...</td>\n",
       "      <td>https://www.wkyt.com/content/news/Kentucky-cli...</td>\n",
       "    </tr>\n",
       "    <tr>\n",
       "      <td>8701</td>\n",
       "      <td>Louisville</td>\n",
       "      <td>auto_google</td>\n",
       "      <td>Louisville basketball is set to be No. 1 in th...</td>\n",
       "      <td>Louisville basketball rank should be No. 1 in ...</td>\n",
       "      <td>https://www.courier-journal.com/story/sports/c...</td>\n",
       "    </tr>\n",
       "    <tr>\n",
       "      <td>8702</td>\n",
       "      <td>Louisville</td>\n",
       "      <td>auto_google</td>\n",
       "      <td>Rick Pitino settles with Adidas, company he al...</td>\n",
       "      <td>Ex-Louisville coach Rick Pitino, Adidas reach ...</td>\n",
       "      <td>https://www.courier-journal.com/story/sports/c...</td>\n",
       "    </tr>\n",
       "  </tbody>\n",
       "</table>\n",
       "<p>8703 rows × 5 columns</p>\n",
       "</div>"
      ],
      "text/plain": [
       "            city        dataset  \\\n",
       "0       New York  manual_google   \n",
       "1       New York  manual_google   \n",
       "2       New York  manual_google   \n",
       "3       New York  manual_google   \n",
       "4       New York  manual_google   \n",
       "...          ...            ...   \n",
       "8698  Louisville    auto_google   \n",
       "8699  Louisville    auto_google   \n",
       "8700  Louisville    auto_google   \n",
       "8701  Louisville    auto_google   \n",
       "8702  Louisville    auto_google   \n",
       "\n",
       "                                                   text  \\\n",
       "0     New York City’s progress fighting the coronavi...   \n",
       "1     article\\n\\nWho says you can't have fun while s...   \n",
       "2     New York’s Legislature is meeting virtually, f...   \n",
       "3     ALBANY — Democratic state lawmakers are consid...   \n",
       "4     NEW YORK (AP) — New York City will spend up to...   \n",
       "...                                                 ...   \n",
       "8698  Louisville basketball puts on show for late-ni...   \n",
       "8699  Menâs college basketball has had no dominant...   \n",
       "8700  Gonzaga remains atop The Associated Press men'...   \n",
       "8701  Louisville basketball is set to be No. 1 in th...   \n",
       "8702  Rick Pitino settles with Adidas, company he al...   \n",
       "\n",
       "                                                  title  \\\n",
       "0     NYC is now the worst place to do business, ret...   \n",
       "1     Floating cinema equipped with social distancin...   \n",
       "2     Opinion | New Yorkers, Voting Could Get Much E...   \n",
       "3     NY bill would rollback COVID-19 liability prot...   \n",
       "4     New York City will cover illegal immigrants as...   \n",
       "...                                                 ...   \n",
       "8698  Louisville basketball beats Pittsburgh, unbeat...   \n",
       "8699  Louisville and Ohio State Start to Rise Above ...   \n",
       "8700  Kentucky climbs in Top 25 poll after beating L...   \n",
       "8701  Louisville basketball rank should be No. 1 in ...   \n",
       "8702  Ex-Louisville coach Rick Pitino, Adidas reach ...   \n",
       "\n",
       "                                                    url  \n",
       "0     https://nypost.com/2020/07/21/nyc-is-now-the-w...  \n",
       "1     https://www.fox5ny.com/news/floating-cinema-eq...  \n",
       "2     https://www.nytimes.com/2020/07/21/opinion/new...  \n",
       "3     https://nypost.com/2020/07/21/ny-bill-would-ro...  \n",
       "4     https://www.marketwatch.com/story/new-york-cit...  \n",
       "...                                                 ...  \n",
       "8698  https://www.courier-journal.com/story/sports/c...  \n",
       "8699  https://www.nytimes.com/2019/12/09/sports/ncaa...  \n",
       "8700  https://www.wkyt.com/content/news/Kentucky-cli...  \n",
       "8701  https://www.courier-journal.com/story/sports/c...  \n",
       "8702  https://www.courier-journal.com/story/sports/c...  \n",
       "\n",
       "[8703 rows x 5 columns]"
      ]
     },
     "execution_count": 37,
     "metadata": {},
     "output_type": "execute_result"
    }
   ],
   "source": [
    "df"
   ]
  }
 ],
 "metadata": {
  "kernelspec": {
   "display_name": "Python 3",
   "language": "python",
   "name": "python3"
  },
  "language_info": {
   "codemirror_mode": {
    "name": "ipython",
    "version": 3
   },
   "file_extension": ".py",
   "mimetype": "text/x-python",
   "name": "python",
   "nbconvert_exporter": "python",
   "pygments_lexer": "ipython3",
   "version": "3.7.4"
  }
 },
 "nbformat": 4,
 "nbformat_minor": 2
}
